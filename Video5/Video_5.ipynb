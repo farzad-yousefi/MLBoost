{
 "cells": [
  {
   "attachments": {},
   "cell_type": "markdown",
   "metadata": {},
   "source": [
    "## This notebook accomponies the video here\n",
    "\n",
    "If you have any questions, please post them in the channel page."
   ]
  },
  {
   "cell_type": "code",
   "execution_count": null,
   "metadata": {},
   "outputs": [],
   "source": [
    "import numpy as np\n",
    "np.random.seed(1)\n",
    "\n",
    "import matplotlib.pyplot as plt\n",
    "import pandas as pd\n",
    "\n",
    "from sklearn.metrics import mean_squared_error, mean_absolute_error, mean_absolute_percentage_error\n",
    "\n",
    "import matplotlib.pyplot as plt\n",
    "import numpy as np\n",
    "from scipy.stats import norm, chi2, ncx2, uniform, pareto\n",
    "\n",
    "import utilityFuncs as uf"
   ]
  },
  {
   "attachments": {},
   "cell_type": "markdown",
   "metadata": {},
   "source": [
    "## Data Generating Process\n",
    "\n",
    "Imagine that the Data Generating Process (DGP) is based on a Gaussian GARCH(1, 1):\n",
    "\n",
    "\n",
    "$$Z_t \\sim \\mathcal{N}(0,\\,\\sigma_{t}^{2})\\,.$$\n",
    "$$\\sigma_{t} = a_0 Z_{t-1}^{2} + a_1 \\sigma_{t-1}^{2} + a_2$$\n",
    "\n",
    "\n",
    "and the target variable (i.e., variable to be forecasted) $Y_t$ simply follows\n",
    "\n",
    "$$Y_t = \\mu + Z_t^2$$\n",
    "\n",
    "Let's code the above DGP."
   ]
  },
  {
   "cell_type": "code",
   "execution_count": null,
   "metadata": {},
   "outputs": [],
   "source": [
    "NUM_DAYS = 183\n",
    "TEST_INDEX = 153\n",
    "INITIAL_SIGMA = 1\n",
    "INITIAL_Z = 0\n"
   ]
  },
  {
   "cell_type": "code",
   "execution_count": null,
   "metadata": {},
   "outputs": [],
   "source": [
    "z_values, sigma_values, days_simulated = uf.simulate_variable_evolution(NUM_DAYS, INITIAL_SIGMA, INITIAL_Z)"
   ]
  },
  {
   "attachments": {},
   "cell_type": "markdown",
   "metadata": {},
   "source": [
    "The target variable $Y_t$ is \n",
    "\n",
    "$$Y_t = \\mu + Z_t^2$$"
   ]
  },
  {
   "cell_type": "code",
   "execution_count": null,
   "metadata": {},
   "outputs": [],
   "source": [
    "MU = 1\n",
    "y_values = [MU + elem**2 for elem in z_values]"
   ]
  },
  {
   "cell_type": "code",
   "execution_count": null,
   "metadata": {},
   "outputs": [],
   "source": [
    "fig, ax = plt.subplots(figsize=(12, 4))\n",
    "\n",
    "ax.plot(days_simulated, sigma_values, label='Standard Deviation $\\sigma$')\n",
    "ax.plot(days_simulated, z_values, label='Hidden Variable $Z$')\n",
    "\n",
    "ax.set_xlabel('Days')\n",
    "ax.set_ylabel('Values')\n",
    "\n",
    "ax.legend()\n",
    "plt.show()\n",
    "\n"
   ]
  },
  {
   "cell_type": "code",
   "execution_count": null,
   "metadata": {},
   "outputs": [],
   "source": [
    "fig, ax = plt.subplots(1, 1, figsize=(12, 4))\n",
    "ax.plot(days_simulated, y_values, label='True')\n"
   ]
  },
  {
   "attachments": {},
   "cell_type": "markdown",
   "metadata": {},
   "source": [
    "Create a dataframe to save days and actual values"
   ]
  },
  {
   "cell_type": "code",
   "execution_count": null,
   "metadata": {},
   "outputs": [],
   "source": [
    "df_actual_values = pd.DataFrame({'days': days_simulated, 'actual_values':y_values}, columns=['days','actual_values'])\n",
    "df_actual_values.to_csv('df_actual_values.csv', sep='\\t', float_format='%.4f')\n"
   ]
  },
  {
   "cell_type": "code",
   "execution_count": null,
   "metadata": {},
   "outputs": [],
   "source": [
    "df_actual_values"
   ]
  },
  {
   "attachments": {},
   "cell_type": "markdown",
   "metadata": {},
   "source": [
    "## Expert Forecasts\n",
    "\n",
    "### Mean\n",
    "Let's first study the case where expert submits the conditional mean at each time as the forecast for that time. \n",
    "\n",
    "\n",
    "The conditional expectation of $Y_t$ at each time is obtained as follows. \n",
    "\n",
    "$$ \\mathop{\\mathbb{E}(Y_t\\mid t)} = \\mathop{\\mathbb{E}(\\mu + Z_t^2\\mid t)} = \\mu + \\mathop{\\mathbb{E}(Z_t^2\\mid t)} = \\mu + Var(Z_t\\mid t) + \\mathop{\\mathbb{E}(Z_t\\mid t)^2} = \\mu + \\sigma_t^2$$\n",
    "\n",
    "where the first three equalities follow simply from the properties of expectation operator and the last equality follows from the fact that $Z_t \\sim \\mathcal{N}(0,\\,\\sigma_{t}^{2})\\,$ (see above).\n"
   ]
  },
  {
   "attachments": {},
   "cell_type": "markdown",
   "metadata": {},
   "source": []
  },
  {
   "cell_type": "code",
   "execution_count": null,
   "metadata": {},
   "outputs": [],
   "source": [
    "# Forecasts\n",
    "expert_forecasts = [MU + elem**2 for elem in sigma_values[TEST_INDEX:]]"
   ]
  },
  {
   "cell_type": "code",
   "execution_count": null,
   "metadata": {},
   "outputs": [],
   "source": [
    "shared_data = y_values[0:TEST_INDEX]\n",
    "mean_value = sum(shared_data)/len(shared_data)\n",
    "max_value = max(shared_data)\n",
    "min_value = min(shared_data)\n",
    "\n",
    "naive_mean_forecasts = [mean_value] * len(expert_forecasts)\n",
    "naive_max_forecasts = [max_value] * len(expert_forecasts)\n",
    "naive_min_forecasts = [min_value] * len(expert_forecasts)"
   ]
  },
  {
   "cell_type": "code",
   "execution_count": null,
   "metadata": {},
   "outputs": [],
   "source": [
    "TEST_DAYS = [day for day in range(TEST_INDEX, NUM_DAYS)]"
   ]
  },
  {
   "cell_type": "code",
   "execution_count": null,
   "metadata": {},
   "outputs": [],
   "source": [
    "plt.figure(figsize=(12, 4))\n",
    "plt.plot(TEST_DAYS, y_values[TEST_INDEX:], label='True')\n",
    "plt.plot(TEST_DAYS, expert_forecasts, label='Expert')\n",
    "plt.plot(TEST_DAYS, naive_mean_forecasts, label='Naive Mean')\n",
    "plt.plot(TEST_DAYS, naive_max_forecasts, label='Naive Max')\n",
    "plt.plot(TEST_DAYS, naive_min_forecasts, label='Naive Min')\n",
    "\n",
    "plt.xlabel('Test Days')\n",
    "plt.ylabel('Forecast Values')\n",
    "plt.title('Forecast Comparison')\n",
    "\n",
    "plt.legend()\n",
    "plt.show()\n"
   ]
  },
  {
   "attachments": {},
   "cell_type": "markdown",
   "metadata": {},
   "source": [
    "## First Test Day\n",
    "\n",
    "Let's focus on what happens during the first test day."
   ]
  },
  {
   "cell_type": "code",
   "execution_count": null,
   "metadata": {},
   "outputs": [],
   "source": [
    "sigma_values[TEST_INDEX]"
   ]
  },
  {
   "cell_type": "code",
   "execution_count": null,
   "metadata": {},
   "outputs": [],
   "source": [
    "def pdf_expression(mean, std, x):\n",
    "    \"See notebook Transformations.ipynb\"\n",
    "    return (1. / (2. * std * np.sqrt(2. * np.pi * (x - mean)))) * np.exp(-(x - mean) / (2. * std ** 2.))\n",
    "\n",
    "def Y_pdf(mean, std):\n",
    "    return lambda x: pdf_expression(mean, std, x)\n",
    "\n",
    "\n",
    "x = np.array(TEST_DAYS[:1]) - TEST_DAYS[0]\n",
    "\n",
    "# Define the values of x_1 and x_2\n",
    "TEST_IND_1 = 0\n",
    "\n",
    "x_1 = 0\n",
    "\n",
    "sig_1 = sigma_values[TEST_INDEX + TEST_IND_1]\n",
    "#chi2_non_centrality_param = MU**2/(2*sig_1**2)\n",
    "\n",
    "plt.figure(figsize=(12, 4))\n",
    "\n",
    "# Plot the curve of y_hat = sin(x)\n",
    "plt.scatter(x, y_values[TEST_INDEX:TEST_INDEX+1], label='True Values')\n",
    "plt.scatter(x, expert_forecasts[0:1], label='Expert Forecasts')\n",
    "\n",
    "# Plot the conditional distribution of Y at x_1 and x_2\n",
    "for xi, sigi, label in [(x_1, sig_1, 'x_1')]:    \n",
    "    y = np.linspace(1, 7, 1000)    \n",
    "    plt.fill_betweenx(y, xi, xi + pdf_expression(MU, sig_1, y), alpha=0.5, label=f'Y given {label}')\n",
    "\n",
    "# Add legend and labels\n",
    "plt.legend()\n",
    "plt.xlabel('Test Day')\n",
    "plt.ylabel('y')\n",
    "plt.xlim([-0.1, 1])\n",
    "plt.ylim([.9, 6])\n",
    "plt.title('First Test Day: Underlying Distribution, True Value and Expert Forecast')\n",
    "\n",
    "# Show the plot\n",
    "plt.show()"
   ]
  },
  {
   "cell_type": "code",
   "execution_count": null,
   "metadata": {},
   "outputs": [],
   "source": [
    "#n = 10\n",
    "n = 100000\n",
    "y_tildas = np.linspace(MU, MU+4, 100).reshape(-1, 1)\n",
    "\n",
    "\n",
    "Y_scale = 100\n",
    "#Y_scale = 10\n",
    "Y, _ = uf.importance_sampling(Y_pdf(MU, sig_1), uniform(loc=MU, scale=Y_scale), n)\n",
    "\n"
   ]
  },
  {
   "cell_type": "code",
   "execution_count": null,
   "metadata": {},
   "outputs": [],
   "source": [
    "len(Y [Y == min(Y)])/n"
   ]
  },
  {
   "cell_type": "code",
   "execution_count": null,
   "metadata": {},
   "outputs": [],
   "source": [
    "print(Y.mean(), expert_forecasts[0])\n"
   ]
  },
  {
   "cell_type": "code",
   "execution_count": null,
   "metadata": {},
   "outputs": [],
   "source": [
    "# Calculate error metrics\n",
    "MSE_values = np.mean((Y - y_tildas) ** 2, axis=1)\n",
    "MAE_values = np.mean(np.abs(Y - y_tildas), axis=1)\n",
    "MAPE_values = np.mean(np.abs((Y - y_tildas) / Y), axis=1)"
   ]
  },
  {
   "cell_type": "code",
   "execution_count": null,
   "metadata": {},
   "outputs": [],
   "source": [
    "np.savetxt('selected_Y.csv', Y, delimiter=',') \n",
    "np.savetxt('y_tildas.csv', y_tildas, delimiter=',') \n",
    "np.savetxt('MSE_values.csv', MSE_values, delimiter=',') "
   ]
  },
  {
   "cell_type": "code",
   "execution_count": null,
   "metadata": {},
   "outputs": [],
   "source": [
    "fig, axes = plt.subplots(1, 2, figsize=(16, 7))\n",
    "axes[0].hist(Y)\n",
    "axes[0].set_title(\"Histogram of Y\")\n",
    "\n",
    "axes[1].plot(y_tildas, MSE_values)\n",
    "axes[1].vlines(np.mean(Y), ymin=min(MSE_values), ymax=max(MSE_values), colors=\"r\", label=\"Mean\")\n",
    "axes[1].vlines(expert_forecasts[0], ymin=min(MSE_values), ymax=max(MSE_values), colors=\"b\", label=\"expert_forecasts[0]\")\n",
    "axes[1].set_ylabel(\"Mean Squared Error\")\n",
    "axes[1].set_xlabel(r\"$\\tilde{y}$\")\n",
    "axes[1].text(np.mean(Y), max(MSE_values), f'mean(Y)', ha='center', va='bottom', color='r', fontsize=10)\n",
    "axes[1].legend()\n",
    "fig.suptitle('First Test Day')\n"
   ]
  },
  {
   "cell_type": "code",
   "execution_count": null,
   "metadata": {},
   "outputs": [],
   "source": []
  }
 ],
 "metadata": {
  "kernelspec": {
   "display_name": "videos",
   "language": "python",
   "name": "python3"
  },
  "language_info": {
   "codemirror_mode": {
    "name": "ipython",
    "version": 3
   },
   "file_extension": ".py",
   "mimetype": "text/x-python",
   "name": "python",
   "nbconvert_exporter": "python",
   "pygments_lexer": "ipython3",
   "version": "3.10.8"
  },
  "orig_nbformat": 4,
  "vscode": {
   "interpreter": {
    "hash": "ebe8a063a208a3cc82aea1fde9bf9353a3c9a6366916c5398a013d2673910f0f"
   }
  }
 },
 "nbformat": 4,
 "nbformat_minor": 2
}
